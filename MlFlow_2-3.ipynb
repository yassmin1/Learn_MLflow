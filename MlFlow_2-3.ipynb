{
 "cells": [
  {
   "cell_type": "markdown",
   "metadata": {
    "id": "IASNMC66xBIh"
   },
   "source": [
    "**Module 2.3: Tracking Multiple Runs Programmatically**\n",
    "## 🎯 **Learning Objectives Expanded**\n",
    "\n",
    "### 1️⃣ **Automate Multiple Experiments Using Loops**\n",
    "\n",
    "* **What it means:**\n",
    "  Instead of manually writing code for each experiment, use a `for` loop to train and log multiple models with different configurations automatically.\n",
    "\n",
    "* **Example:**\n",
    "\n",
    "  ```python\n",
    "  alphas = [0.01, 0.1, 1.0, 10.0]\n",
    "  for alpha in alphas:\n",
    "      with mlflow.start_run():\n",
    "          model = Ridge(alpha=alpha)\n",
    "          model.fit(X_train, y_train)\n",
    "          # log metrics, model, etc.\n",
    "  ```\n",
    "\n",
    "* **Why it matters:**\n",
    "  Automation saves time and ensures consistency when testing different model settings.\n",
    "\n",
    "---\n",
    "\n",
    "### 2️⃣ **Log Different Hyperparameter Combinations (Grid Search)**\n",
    "\n",
    "* **What it means:**\n",
    "  Trying different combinations of hyperparameters (e.g., `alpha`, `max_iter`) using grid search and recording each configuration.\n",
    "\n",
    "* **Example:**\n",
    "\n",
    "  ```python\n",
    "  from itertools import product\n",
    "  alphas = [0.1, 1.0]\n",
    "  iters = [100, 500]\n",
    "  for alpha, max_iter in product(alphas, iters):\n",
    "      with mlflow.start_run():\n",
    "          mlflow.log_param(\"alpha\", alpha)\n",
    "          mlflow.log_param(\"max_iter\", max_iter)\n",
    "          # Train model, log metrics and model\n",
    "  ```\n",
    "\n",
    "* **Why it matters:**\n",
    "  Helps you systematically explore the parameter space and find the best model settings.\n",
    "\n",
    "---\n",
    "\n",
    "### 3️⃣ **Record Parameters, Metrics, and Models**\n",
    "\n",
    "* **What it means:**\n",
    "  Log everything about your experiment: the inputs (`params`), results (`metrics`), and the trained model (`artifacts`).\n",
    "\n",
    "* **Example:**\n",
    "\n",
    "  ```python\n",
    "  mlflow.log_param(\"alpha\", alpha)\n",
    "  mlflow.log_metric(\"rmse\", rmse)\n",
    "  mlflow.sklearn.log_model(model, \"ridge_model\")\n",
    "  ```\n",
    "\n",
    "* **Why it matters:**\n",
    "  This creates a complete history of each experiment that you can revisit, compare, and reproduce.\n",
    "\n",
    "---\n",
    "\n",
    "### 4️⃣ **Compare Runs Efficiently Using `search_runs()`**\n",
    "\n",
    "* **What it means:**\n",
    "  Use MLflow’s built-in search function to view all logged runs, filter by parameters or metrics, and sort to find the best one.\n",
    "\n",
    "* **Example:**\n",
    "\n",
    "  ```python\n",
    "  df = mlflow.search_runs(experiment_names=[\"ridge-regression-grid\"])\n",
    "  df[[\"params.alpha\", \"params.max_iter\", \"metrics.rmse\"]].sort_values(\"metrics.rmse\")\n",
    "  ```\n",
    "\n",
    "* **Why it matters:**\n",
    "  Makes it easy to analyze results and choose the top-performing model without manually checking each run.\n",
    "\n",
    "\n"
   ]
  },
  {
   "cell_type": "code",
   "execution_count": 1,
   "metadata": {
    "id": "egNcziEexASy"
   },
   "outputs": [
    {
     "name": "stderr",
     "output_type": "stream",
     "text": [
      "2025/08/03 15:29:34 INFO mlflow.tracking.fluent: Experiment with name 'programmatic-multi-run' does not exist. Creating a new experiment.\n",
      "2025/08/03 15:29:35 WARNING mlflow.models.model: `artifact_path` is deprecated. Please use `name` instead.\n",
      "2025/08/03 15:29:40 WARNING mlflow.models.model: Model logged without a signature and input example. Please set `input_example` parameter when logging the model to auto infer the model signature.\n",
      "2025/08/03 15:29:41 WARNING mlflow.models.model: `artifact_path` is deprecated. Please use `name` instead.\n"
     ]
    },
    {
     "name": "stdout",
     "output_type": "stream",
     "text": [
      "Run logged: alpha=0.01, max_iter=300, run_id=6c8fb75669404929a7e5c5d7b8feb699\n"
     ]
    },
    {
     "name": "stderr",
     "output_type": "stream",
     "text": [
      "2025/08/03 15:29:45 WARNING mlflow.models.model: Model logged without a signature and input example. Please set `input_example` parameter when logging the model to auto infer the model signature.\n",
      "2025/08/03 15:29:45 WARNING mlflow.models.model: `artifact_path` is deprecated. Please use `name` instead.\n"
     ]
    },
    {
     "name": "stdout",
     "output_type": "stream",
     "text": [
      "Run logged: alpha=0.01, max_iter=500, run_id=71da9cd2557e423288dac59a199f8234\n"
     ]
    },
    {
     "name": "stderr",
     "output_type": "stream",
     "text": [
      "2025/08/03 15:29:50 WARNING mlflow.models.model: Model logged without a signature and input example. Please set `input_example` parameter when logging the model to auto infer the model signature.\n",
      "2025/08/03 15:29:50 WARNING mlflow.models.model: `artifact_path` is deprecated. Please use `name` instead.\n"
     ]
    },
    {
     "name": "stdout",
     "output_type": "stream",
     "text": [
      "Run logged: alpha=0.01, max_iter=700, run_id=38f1fa2709994b58871d8f3e3df7080d\n"
     ]
    },
    {
     "name": "stderr",
     "output_type": "stream",
     "text": [
      "2025/08/03 15:29:55 WARNING mlflow.models.model: Model logged without a signature and input example. Please set `input_example` parameter when logging the model to auto infer the model signature.\n",
      "2025/08/03 15:29:55 WARNING mlflow.models.model: `artifact_path` is deprecated. Please use `name` instead.\n"
     ]
    },
    {
     "name": "stdout",
     "output_type": "stream",
     "text": [
      "Run logged: alpha=0.1, max_iter=300, run_id=baaa761a41cf414c83763e57e824bf18\n"
     ]
    },
    {
     "name": "stderr",
     "output_type": "stream",
     "text": [
      "2025/08/03 15:29:59 WARNING mlflow.models.model: Model logged without a signature and input example. Please set `input_example` parameter when logging the model to auto infer the model signature.\n",
      "2025/08/03 15:29:59 WARNING mlflow.models.model: `artifact_path` is deprecated. Please use `name` instead.\n"
     ]
    },
    {
     "name": "stdout",
     "output_type": "stream",
     "text": [
      "Run logged: alpha=0.1, max_iter=500, run_id=455a05af17464ef6b4a4b4089b1f4f0d\n"
     ]
    },
    {
     "name": "stderr",
     "output_type": "stream",
     "text": [
      "2025/08/03 15:30:04 WARNING mlflow.models.model: Model logged without a signature and input example. Please set `input_example` parameter when logging the model to auto infer the model signature.\n",
      "2025/08/03 15:30:04 WARNING mlflow.models.model: `artifact_path` is deprecated. Please use `name` instead.\n"
     ]
    },
    {
     "name": "stdout",
     "output_type": "stream",
     "text": [
      "Run logged: alpha=0.1, max_iter=700, run_id=3c6635b14a13493ba59c668a8d2cca15\n"
     ]
    },
    {
     "name": "stderr",
     "output_type": "stream",
     "text": [
      "2025/08/03 15:30:08 WARNING mlflow.models.model: Model logged without a signature and input example. Please set `input_example` parameter when logging the model to auto infer the model signature.\n",
      "2025/08/03 15:30:09 WARNING mlflow.models.model: `artifact_path` is deprecated. Please use `name` instead.\n"
     ]
    },
    {
     "name": "stdout",
     "output_type": "stream",
     "text": [
      "Run logged: alpha=1.0, max_iter=300, run_id=66ec9bac25e04467a9d07074de383307\n"
     ]
    },
    {
     "name": "stderr",
     "output_type": "stream",
     "text": [
      "2025/08/03 15:30:13 WARNING mlflow.models.model: Model logged without a signature and input example. Please set `input_example` parameter when logging the model to auto infer the model signature.\n",
      "2025/08/03 15:30:13 WARNING mlflow.models.model: `artifact_path` is deprecated. Please use `name` instead.\n"
     ]
    },
    {
     "name": "stdout",
     "output_type": "stream",
     "text": [
      "Run logged: alpha=1.0, max_iter=500, run_id=4fc897da12004a65adb05d455bbd8970\n"
     ]
    },
    {
     "name": "stderr",
     "output_type": "stream",
     "text": [
      "2025/08/03 15:30:17 WARNING mlflow.models.model: Model logged without a signature and input example. Please set `input_example` parameter when logging the model to auto infer the model signature.\n"
     ]
    },
    {
     "name": "stdout",
     "output_type": "stream",
     "text": [
      "Run logged: alpha=1.0, max_iter=700, run_id=892f6741aef24964be982d1d9579497c\n"
     ]
    },
    {
     "data": {
      "application/vnd.microsoft.datawrangler.viewer.v0+json": {
       "columns": [
        {
         "name": "index",
         "rawType": "int64",
         "type": "integer"
        },
        {
         "name": "run_id",
         "rawType": "object",
         "type": "string"
        },
        {
         "name": "params.alpha",
         "rawType": "object",
         "type": "string"
        },
        {
         "name": "params.max_iter",
         "rawType": "object",
         "type": "string"
        },
        {
         "name": "metrics.rmse",
         "rawType": "float64",
         "type": "float"
        }
       ],
       "ref": "a08bf8ab-0021-44cd-a870-bfd9e20169bd",
       "rows": [
        [
         "3",
         "3c6635b14a13493ba59c668a8d2cca15",
         "0.1",
         "700",
         "53.446111997699646"
        ],
        [
         "4",
         "455a05af17464ef6b4a4b4089b1f4f0d",
         "0.1",
         "500",
         "53.446111997699646"
        ],
        [
         "5",
         "baaa761a41cf414c83763e57e824bf18",
         "0.1",
         "300",
         "53.446111997699646"
        ],
        [
         "6",
         "38f1fa2709994b58871d8f3e3df7080d",
         "0.01",
         "700",
         "53.68696471589738"
        ],
        [
         "7",
         "71da9cd2557e423288dac59a199f8234",
         "0.01",
         "500",
         "53.68696471589738"
        ],
        [
         "8",
         "6c8fb75669404929a7e5c5d7b8feb699",
         "0.01",
         "300",
         "53.68696471589738"
        ],
        [
         "0",
         "892f6741aef24964be982d1d9579497c",
         "1.0",
         "700",
         "55.47446204180109"
        ],
        [
         "2",
         "66ec9bac25e04467a9d07074de383307",
         "1.0",
         "300",
         "55.47446204180109"
        ],
        [
         "1",
         "4fc897da12004a65adb05d455bbd8970",
         "1.0",
         "500",
         "55.47446204180109"
        ]
       ],
       "shape": {
        "columns": 4,
        "rows": 9
       }
      },
      "text/html": [
       "<div>\n",
       "<style scoped>\n",
       "    .dataframe tbody tr th:only-of-type {\n",
       "        vertical-align: middle;\n",
       "    }\n",
       "\n",
       "    .dataframe tbody tr th {\n",
       "        vertical-align: top;\n",
       "    }\n",
       "\n",
       "    .dataframe thead th {\n",
       "        text-align: right;\n",
       "    }\n",
       "</style>\n",
       "<table border=\"1\" class=\"dataframe\">\n",
       "  <thead>\n",
       "    <tr style=\"text-align: right;\">\n",
       "      <th></th>\n",
       "      <th>run_id</th>\n",
       "      <th>params.alpha</th>\n",
       "      <th>params.max_iter</th>\n",
       "      <th>metrics.rmse</th>\n",
       "    </tr>\n",
       "  </thead>\n",
       "  <tbody>\n",
       "    <tr>\n",
       "      <th>3</th>\n",
       "      <td>3c6635b14a13493ba59c668a8d2cca15</td>\n",
       "      <td>0.1</td>\n",
       "      <td>700</td>\n",
       "      <td>53.446112</td>\n",
       "    </tr>\n",
       "    <tr>\n",
       "      <th>4</th>\n",
       "      <td>455a05af17464ef6b4a4b4089b1f4f0d</td>\n",
       "      <td>0.1</td>\n",
       "      <td>500</td>\n",
       "      <td>53.446112</td>\n",
       "    </tr>\n",
       "    <tr>\n",
       "      <th>5</th>\n",
       "      <td>baaa761a41cf414c83763e57e824bf18</td>\n",
       "      <td>0.1</td>\n",
       "      <td>300</td>\n",
       "      <td>53.446112</td>\n",
       "    </tr>\n",
       "    <tr>\n",
       "      <th>6</th>\n",
       "      <td>38f1fa2709994b58871d8f3e3df7080d</td>\n",
       "      <td>0.01</td>\n",
       "      <td>700</td>\n",
       "      <td>53.686965</td>\n",
       "    </tr>\n",
       "    <tr>\n",
       "      <th>7</th>\n",
       "      <td>71da9cd2557e423288dac59a199f8234</td>\n",
       "      <td>0.01</td>\n",
       "      <td>500</td>\n",
       "      <td>53.686965</td>\n",
       "    </tr>\n",
       "    <tr>\n",
       "      <th>8</th>\n",
       "      <td>6c8fb75669404929a7e5c5d7b8feb699</td>\n",
       "      <td>0.01</td>\n",
       "      <td>300</td>\n",
       "      <td>53.686965</td>\n",
       "    </tr>\n",
       "    <tr>\n",
       "      <th>0</th>\n",
       "      <td>892f6741aef24964be982d1d9579497c</td>\n",
       "      <td>1.0</td>\n",
       "      <td>700</td>\n",
       "      <td>55.474462</td>\n",
       "    </tr>\n",
       "    <tr>\n",
       "      <th>2</th>\n",
       "      <td>66ec9bac25e04467a9d07074de383307</td>\n",
       "      <td>1.0</td>\n",
       "      <td>300</td>\n",
       "      <td>55.474462</td>\n",
       "    </tr>\n",
       "    <tr>\n",
       "      <th>1</th>\n",
       "      <td>4fc897da12004a65adb05d455bbd8970</td>\n",
       "      <td>1.0</td>\n",
       "      <td>500</td>\n",
       "      <td>55.474462</td>\n",
       "    </tr>\n",
       "  </tbody>\n",
       "</table>\n",
       "</div>"
      ],
      "text/plain": [
       "                             run_id params.alpha params.max_iter  metrics.rmse\n",
       "3  3c6635b14a13493ba59c668a8d2cca15          0.1             700     53.446112\n",
       "4  455a05af17464ef6b4a4b4089b1f4f0d          0.1             500     53.446112\n",
       "5  baaa761a41cf414c83763e57e824bf18          0.1             300     53.446112\n",
       "6  38f1fa2709994b58871d8f3e3df7080d         0.01             700     53.686965\n",
       "7  71da9cd2557e423288dac59a199f8234         0.01             500     53.686965\n",
       "8  6c8fb75669404929a7e5c5d7b8feb699         0.01             300     53.686965\n",
       "0  892f6741aef24964be982d1d9579497c          1.0             700     55.474462\n",
       "2  66ec9bac25e04467a9d07074de383307          1.0             300     55.474462\n",
       "1  4fc897da12004a65adb05d455bbd8970          1.0             500     55.474462"
      ]
     },
     "execution_count": 1,
     "metadata": {},
     "output_type": "execute_result"
    }
   ],
   "source": [
    "# 📓 Module 2.3: Tracking Multiple Runs Programmatically\n",
    "# Goal: Automate running and tracking multiple experiments using loops and MLflow API\n",
    "\n",
    "# ✅ Step 1: Install MLflow and dependencies\n",
    "!pip install -q mlflow scikit-learn\n",
    "\n",
    "# ✅ Step 2: Import required libraries\n",
    "import mlflow\n",
    "import mlflow.sklearn\n",
    "from sklearn.linear_model import Ridge\n",
    "from sklearn.datasets import load_diabetes\n",
    "from sklearn.model_selection import train_test_split\n",
    "from sklearn.metrics import mean_squared_error\n",
    "import numpy as np\n",
    "\n",
    "# ✅ Step 3: Load and prepare dataset\n",
    "X, y = load_diabetes(return_X_y=True)\n",
    "X_train, X_test, y_train, y_test = train_test_split(X, y, test_size=0.2, random_state=42)\n",
    "\n",
    "# ✅ Step 4: Set up experiment\n",
    "experiment_name = \"programmatic-multi-run\"\n",
    "mlflow.set_experiment(experiment_name)\n",
    "\n",
    "# ✅ Step 5: Run experiments with varying alpha and max_iter values\n",
    "alphas = [0.01, 0.1, 1.0]\n",
    "max_iters = [300, 500, 700]\n",
    "\n",
    "for alpha in alphas:\n",
    "    for max_iter in max_iters:\n",
    "        with mlflow.start_run():\n",
    "            # Log parameters\n",
    "            mlflow.log_param(\"alpha\", alpha)\n",
    "            mlflow.log_param(\"max_iter\", max_iter)\n",
    "\n",
    "            # Train Ridge model\n",
    "            model = Ridge(alpha=alpha, max_iter=max_iter)\n",
    "            model.fit(X_train, y_train)\n",
    "\n",
    "            # Evaluate\n",
    "            y_pred = model.predict(X_test)\n",
    "            mse = mean_squared_error(y_test, y_pred)\n",
    "            rmse = np.sqrt(mse)\n",
    "\n",
    "            # Log metrics\n",
    "            mlflow.log_metric(\"mse\", mse)\n",
    "            mlflow.log_metric(\"rmse\", rmse)\n",
    "\n",
    "            # Log model\n",
    "            mlflow.sklearn.log_model(model, \"ridge_model\")\n",
    "\n",
    "            run_id = mlflow.active_run().info.run_id\n",
    "            print(f\"Run logged: alpha={alpha}, max_iter={max_iter}, run_id={run_id}\")\n",
    "\n",
    "# ✅ Step 6: Search and compare all runs\n",
    "runs_df = mlflow.search_runs(experiment_names=[experiment_name])\n",
    "display_cols = [\"run_id\", \"params.alpha\", \"params.max_iter\", \"metrics.rmse\"]\n",
    "runs_df[display_cols].sort_values(\"metrics.rmse\")\n"
   ]
  },
  {
   "cell_type": "markdown",
   "metadata": {
    "id": "GfHcIJnsxIIT"
   },
   "source": [
    "## 📝 Assessment: Tracking Multiple Runs Programmatically\n",
    "\n",
    "### 📘 Multiple Choice (Choose the best answer)\n",
    "\n",
    "**1. Why use nested loops in an MLflow experiment script?**    \n",
    "A. To execute parallel training jobs   \n",
    "**B. To run and log models with different combinations of parameters** ✅   \n",
    "C. To avoid using `mlflow.start_run()`   \n",
    "D. To reduce memory usage   \n",
    "\n",
    "---\n",
    "\n",
    "**2. What does `mlflow.search_runs()` return?**   \n",
    "A. A trained model object   \n",
    "**B. A DataFrame of all runs from an experiment** ✅   \n",
    "C. A CSV log file   \n",
    "D. A list of artifacts   \n",
    "\n",
    "---\n",
    "\n",
    "**3. Which MLflow method logs a run-specific metric like RMSE?**   \n",
    "A. `mlflow.search_metrics()`      \n",
    "**B. `mlflow.log_metric(\\\"rmse\\\", value)`** ✅      \n",
    "C. `mlflow.run_metric()`      \n",
    "D. `mlflow.store()`      \n",
    "\n",
    "---\n",
    "\n",
    "**4. How can you identify the best model from programmatically logged runs?**   \n",
    "A. Look for the run with the lowest `params.alpha`         \n",
    "B. Use `mlflow.get_best_run()`         \n",
    "**C. Sort `search_runs()` DataFrame by a metric like `rmse`** ✅         \n",
    "D. Only the UI can show this         \n",
    "\n",
    "---\n",
    "\n",
    "### ✏️ Short Answer\n",
    "\n",
    "**5. What are the benefits of logging experiments programmatically instead of running them one by one manually?**      \n",
    "*Answer should mention automation, consistency, reproducibility, and ease of comparing multiple model variations.*      \n",
    "\n",
    "---\n",
    "\n",
    "**6. Why is it helpful to log both parameters and metrics for every run?**   \n",
    "*Answer: So you can trace which parameter settings led to which performance outcomes, allowing for reproducible comparisons.*   \n",
    "\n",
    "---\n",
    "\n",
    "### 🧪 Mini Project   \n",
    "\n",
    "**7. Task:**   \n",
    "\n",
    "* Modify the loop to include a third parameter: `solver` (e.g., `auto`, `svd`)   \n",
    "* Log the `solver` as a parameter   \n",
    "* Log RMSE and R² as metrics   \n",
    "* Retrieve all runs with `search_runs()`   \n",
    "* Sort and display the top 3 performing combinations   \n",
    "\n"
   ]
  }
 ],
 "metadata": {
  "colab": {
   "authorship_tag": "ABX9TyNnYt+hQ5Q/9Pl0YbITn417",
   "provenance": []
  },
  "kernelspec": {
   "display_name": ".venv",
   "language": "python",
   "name": "python3"
  },
  "language_info": {
   "codemirror_mode": {
    "name": "ipython",
    "version": 3
   },
   "file_extension": ".py",
   "mimetype": "text/x-python",
   "name": "python",
   "nbconvert_exporter": "python",
   "pygments_lexer": "ipython3",
   "version": "3.13.5"
  }
 },
 "nbformat": 4,
 "nbformat_minor": 0
}
